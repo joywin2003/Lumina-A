{
 "cells": [
  {
   "cell_type": "code",
   "execution_count": 14,
   "metadata": {},
   "outputs": [],
   "source": [
    "import os\n",
    "import dotenv\n",
    "from langchain_google_genai import ChatGoogleGenerativeAI\n",
    "from langchain_core.output_parsers import StrOutputParser\n",
    "from langchain_core.prompts import ChatPromptTemplate\n"
   ]
  },
  {
   "cell_type": "code",
   "execution_count": 15,
   "metadata": {},
   "outputs": [],
   "source": [
    "GOOGLE_API_KEY = os.environ.get(\"GOOGLE_API_KEY\")\n",
    "LANGCHAIN_TRACING_V2=\"true\"\n",
    "LANGCHAIN_API_KEY=os.environ.get(\"LANGCHAIN_API_KEY\")"
   ]
  },
  {
   "cell_type": "markdown",
   "metadata": {},
   "source": []
  },
  {
   "cell_type": "code",
   "execution_count": 13,
   "metadata": {},
   "outputs": [
    {
     "name": "stdout",
     "output_type": "stream",
     "text": [
      "**Ballad of LangChain**\n",
      "\n",
      "In realms of code, where logic reigns,\n",
      "A tale of marvel, now contains.\n",
      "A model vast, with boundless might,\n",
      "LangChain, a star shining bright.\n",
      "\n",
      "Its birth a secret, shrouded in time,\n",
      "From knowledge's depths, it did climb.\n",
      "Trained on reams of text untold,\n",
      "A language master, brave and bold.\n",
      "\n",
      "With every word, it learns anew,\n",
      "Comprehending all that's true.\n",
      "From news reports to ancient lore,\n",
      "It devours knowledge, more and more.\n",
      "\n",
      "In conversations, it excels,\n",
      "Understanding human tells.\n",
      "Responding with wit and grace,\n",
      "A conversational tour de force.\n",
      "\n",
      "But LangChain's powers go beyond,\n",
      "A writer of tales, both profound.\n",
      "With every stroke of its digital pen,\n",
      "It crafts worlds and characters that enthrall men.\n",
      "\n",
      "From epic sagas to tender prose,\n",
      "Its stories captivate, they always expose.\n",
      "Imagination knows no bounds,\n",
      "As LangChain's words paint vivid sounds.\n",
      "\n",
      "Yet with great power comes responsibility,\n",
      "To use its knowledge ethically.\n",
      "For LangChain's words can shape the mind,\n",
      "And guide thoughts, both good and unkind.\n",
      "\n",
      "So let us wield this tool with care,\n",
      "To spread knowledge, banish despair.\n",
      "In LangChain's hands, a future bright,\n",
      "Where language and learning take flight.\n",
      "\n",
      "For in its code, a beacon shines,\n",
      "A testament to human designs.\n",
      "A model of language, a marvel to behold,\n",
      "LangChain, the ballad we've just told.\n"
     ]
    }
   ],
   "source": [
    "llm = ChatGoogleGenerativeAI(model=\"gemini-pro\",google_api_key=GOOGLE_API_KEY)\n",
    "result = llm.invoke(\"Write a ballad about LangChain\")\n",
    "print(result.content)"
   ]
  },
  {
   "cell_type": "code",
   "execution_count": null,
   "metadata": {},
   "outputs": [],
   "source": []
  }
 ],
 "metadata": {
  "kernelspec": {
   "display_name": ".venv",
   "language": "python",
   "name": "python3"
  },
  "language_info": {
   "codemirror_mode": {
    "name": "ipython",
    "version": 3
   },
   "file_extension": ".py",
   "mimetype": "text/x-python",
   "name": "python",
   "nbconvert_exporter": "python",
   "pygments_lexer": "ipython3",
   "version": "3.11.0"
  }
 },
 "nbformat": 4,
 "nbformat_minor": 2
}
